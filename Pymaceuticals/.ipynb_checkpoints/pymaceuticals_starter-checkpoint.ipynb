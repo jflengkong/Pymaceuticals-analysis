{
 "cells": [
  {
   "cell_type": "markdown",
   "metadata": {
    "tags": []
   },
   "source": [
    "# Pymaceuticals Inc.\n",
    "\n",
    "## Observations and analyses\n",
    "\n",
    "With the tables and calculations observed by the dataset given to us, the following analyses were noted for the 249 (noted to be 248 after review of duplicates) mice over the course of a period of 45 days. \n",
    "The purpose of this study was to compare the performance of Pymaceuticals’ drug of interest, Capomulin, against the other treatment regimens. The following conclusions were made: \n",
    "\n",
    "1. Capomulin and Ramicaine were the most effective drug regimen to reduce the volume of the SCC within 45 days. The standard of deviation and variance also implied that there was less chance of variance of results with these drug regimes for each mice. \n",
    "\n",
    "2. Ketapril and Naftisol were noted to have similar statistics to the mice having a placebo, therefore noting as the \"least effective\" drug regimen over 45 days to reduce the tumour volume size. It is interesting to note however, that despite Ketapril and Naftisol showing a higher average size of tumour throughout the study, that there were more mice observed within these two drugs than other drug regiem (other than Capomulin and Ramicaine). This implied the tumour size stayed large but the mice may still survive with these drug regimens. \n",
    "\n",
    "3. There seemed to be a correlation between the average weight of mice to the tumour size that was observed. \n",
    "\n",
    "4. It can be assumed that in this trial of available drug regimen for 45 days, that Capomulin was the best choice of drug to reduce tumour volume size and more likely to increase survival rate than the other drug regimen noted. Ramicaine would be a great alterntaive due to its similar pattern of effect on the tumour volume size observation during this trial. \n",
    "\n",
    "Limitations: This study is limited in that a 45-day trial will not be sufficient to assess long term prognoses for these mice, therefore these conclusions can only be noted for 45 days, but no more. \n",
    "Furthermore, 249 mice are not near sufficient to truly understand the effects of these drugs to the wider population of mice.  "
   ]
  },
  {
   "cell_type": "code",
   "execution_count": null,
   "metadata": {
    "tags": []
   },
   "outputs": [],
   "source": [
    "# Dependencies and Setup\n",
    "import matplotlib.pyplot as plt\n",
    "import pandas as pd\n",
    "import scipy.stats as st\n",
    "import numpy as np\n",
    "from scipy.stats import pearsonr, linregress\n",
    "\n",
    "# Study data files\n",
    "mouse_metadata_path = \"data/Mouse_metadata.csv\"\n",
    "study_results_path = \"data/Study_results.csv\"\n",
    "\n",
    "# Read the mouse data and the study results\n",
    "mouse_metadata = pd.read_csv(mouse_metadata_path)\n",
    "study_results = pd.read_csv(study_results_path)\n",
    "\n",
    "# Combine the data into a single DataFrame\n",
    "mouse_cancer_df = pd.merge(study_results, mouse_metadata, on =\"Mouse ID\", how='left')\n",
    "\n",
    "# Display the data table for preview\n",
    "mouse_cancer_df.head()"
   ]
  },
  {
   "cell_type": "code",
   "execution_count": null,
   "metadata": {
    "tags": []
   },
   "outputs": [],
   "source": [
    "# Checking the number of mice.\n",
    "total_mice = len(mouse_cancer_df[\"Mouse ID\"].unique())\n",
    "total_mice"
   ]
  },
  {
   "cell_type": "code",
   "execution_count": null,
   "metadata": {
    "tags": []
   },
   "outputs": [],
   "source": [
    "# Identify duplicate rows based on Mouse ID and Timepoint\n",
    "duplicated = mouse_cancer_df[mouse_cancer_df.duplicated(subset=['Mouse ID', 'Timepoint'], keep=False)]\n",
    "\n",
    "# Filter out the Mouse IDs that have more than one occurrence\n",
    "duplicate_mice = duplicated['Mouse ID'].unique()"
   ]
  },
  {
   "cell_type": "code",
   "execution_count": null,
   "metadata": {
    "tags": []
   },
   "outputs": [],
   "source": [
    "# Get the duplicate mice by ID number that shows up for Mouse ID and Timepoint. \n",
    "duplicated"
   ]
  },
  {
   "cell_type": "code",
   "execution_count": null,
   "metadata": {
    "tags": []
   },
   "outputs": [],
   "source": [
    "# Create a clean DataFrame by dropping the duplicate mouse by its ID.\n",
    "cleaned_df = mouse_cancer_df[~mouse_cancer_df['Mouse ID'].str.contains(\"g989\")==True]\n",
    "cleaned_df.head()"
   ]
  },
  {
   "cell_type": "code",
   "execution_count": null,
   "metadata": {
    "tags": []
   },
   "outputs": [],
   "source": [
    "# Checking the number of mice in the clean DataFrame.\n",
    "cleaned_total_mice = len(cleaned_df['Mouse ID'].unique())\n",
    "cleaned_total_mice"
   ]
  },
  {
   "cell_type": "markdown",
   "metadata": {},
   "source": [
    "## Summary Statistics"
   ]
  },
  {
   "cell_type": "code",
   "execution_count": null,
   "metadata": {
    "tags": []
   },
   "outputs": [],
   "source": [
    "# Generate a summary statistics table of mean, median, variance, standard deviation, and SEM of the tumor volume for each regimen\n",
    "tumour_mean = cleaned_df.groupby([\"Drug Regimen\"])[\"Tumor Volume (mm3)\"].mean() \n",
    "tumour_median = cleaned_df.groupby([\"Drug Regimen\"])[\"Tumor Volume (mm3)\"].median()\n",
    "tumour_var = cleaned_df.groupby([\"Drug Regimen\"])[\"Tumor Volume (mm3)\"].var()\n",
    "tumour_std_dev = cleaned_df.groupby([\"Drug Regimen\"])[\"Tumor Volume (mm3)\"].std()\n",
    "tumour_std_error = cleaned_df.groupby([\"Drug Regimen\"])[\"Tumor Volume (mm3)\"].sem()\n"
   ]
  },
  {
   "cell_type": "code",
   "execution_count": null,
   "metadata": {
    "tags": []
   },
   "outputs": [],
   "source": [
    "# Assemble the resulting series into a single summary DataFrame.\n",
    "drug_summary_df = pd.DataFrame({\"Mean Tumour Volume\" : tumour_mean,\n",
    "                           \"Median Tumour Volume\" : tumour_median,\n",
    "                           \"Tumour Volume Variance\" : tumour_var, \n",
    "                           \"Tumour Volume Std. Dev.\" : tumour_std_dev,\n",
    "                           \"Tumour Volume Std. Err.\": tumour_std_error})\n",
    "\n",
    "drug_summary_df"
   ]
  },
  {
   "cell_type": "markdown",
   "metadata": {},
   "source": [
    "## Bar and Pie Charts"
   ]
  },
  {
   "cell_type": "code",
   "execution_count": null,
   "metadata": {
    "tags": []
   },
   "outputs": [],
   "source": [
    "#Create a group based on timepoint with pandas \n",
    "drug_time = cleaned_df.groupby(\"Timepoint\")\n",
    "\n",
    "# Create a series that counts the count of drug regimen by timepoint groups \n",
    "mice_drug_df = cleaned_df['Drug Regimen'].value_counts()\n",
    "\n",
    "# Plot dataframe\n",
    "mice_drug_df.plot(kind='bar', figsize=(6, 4), ylabel=\"# of Observed Mouse Timepoints\", alpha=0.8)\n",
    "plt.show()"
   ]
  },
  {
   "cell_type": "code",
   "execution_count": null,
   "metadata": {
    "tags": []
   },
   "outputs": [],
   "source": [
    "# Generate a bar plot showing the total number of rows (Mouse ID/Timepoints) for each drug regimen using pyplot.\n",
    "drug_regimen = mice_drug_df.index\n",
    "mice_count_time = [value for value in mice_drug_df]\n",
    "\n",
    "plt.bar(drug_regimen, mice_count_time, color='b', align='center')\n",
    "plt.xticks(rotation=90)\n",
    "plt.xlabel(\"Drug Regimen\")\n",
    "plt.ylabel(\"# of Observed Mouse Timepoints\")\n",
    "plt.show()\n"
   ]
  },
  {
   "cell_type": "code",
   "execution_count": null,
   "metadata": {
    "tags": []
   },
   "outputs": [],
   "source": [
    "# Generate a pie plot showing the distribution of female versus male mice using Pandas\n",
    "gender_counts = cleaned_df[\"Sex\"].value_counts()\n",
    "gender_counts.plot(kind=\"pie\", autopct=\"%1.1f%%\", ylabel=\"Sex\");\n",
    "plt.show()"
   ]
  },
  {
   "cell_type": "code",
   "execution_count": null,
   "metadata": {
    "tags": []
   },
   "outputs": [],
   "source": [
    "# Generate a pie plot showing the distribution of female versus male mice using pyplot\n",
    "# Create array for sex \n",
    "gender = gender_counts.index\n",
    "gender_counts_list = [value for value in gender_counts]\n",
    "\n",
    "plt.pie(gender_counts_list, labels = gender, startangle=360, autopct=\"%1.1f%%\")\n",
    "plt.ylabel(\"Sex\")\n",
    "plt.show()"
   ]
  },
  {
   "cell_type": "markdown",
   "metadata": {},
   "source": [
    "## Quartiles, Outliers and Boxplots"
   ]
  },
  {
   "cell_type": "code",
   "execution_count": null,
   "metadata": {
    "tags": []
   },
   "outputs": [],
   "source": [
    "# Calculate the final tumor volume of each mouse across four of the treatment regimens:  \n",
    "# Capomulin, Ramicane, Infubinol, and Ceftamin\n",
    "effective_regimen_df = pd.DataFrame(cleaned_df.loc[(cleaned_df[\"Drug Regimen\"] == \"Capomulin\") |\n",
    "                                   (cleaned_df[\"Drug Regimen\"] == \"Ramicane\") |\n",
    "                                   (cleaned_df[\"Drug Regimen\"] == \"Infubinol\") |\n",
    "                                   (cleaned_df[\"Drug Regimen\"] == \"Ceftamin\"), :])\n",
    "\n",
    "# # Start by getting the last (greatest) timepoint for each mouse\n",
    "mouse_max_timepoint = pd.DataFrame(effective_regimen_df.groupby(['Mouse ID'])['Timepoint'].max())\n",
    "\n",
    "# # # Merge this group df with the original DataFrame to get the tumor volume at the last timepoint\n",
    "new_tumour_df = pd.merge(mouse_max_timepoint, mouse_cancer_df, on= [\"Mouse ID\", \"Timepoint\"], how='inner')\n",
    "new_tumour_df\n"
   ]
  },
  {
   "cell_type": "code",
   "execution_count": null,
   "metadata": {
    "tags": []
   },
   "outputs": [],
   "source": [
    "# Create two empty lists for Regimen and final tumour vol per mouse new_tumour_df \n",
    "regimen_list = [\"Capomulin\", \"Ramicane\", \"Infubinol\", \"Ceftamin\"] \n",
    "final_tumour_vol = []\n",
    "\n",
    "# Create a loop to assess tumour vol for those on the regimen list \n",
    "for regimen in regimen_list: \n",
    "    \n",
    "    mice_treatment = new_tumour_df.loc[new_tumour_df[\"Drug Regimen\"] == regimen]\n",
    "    \n",
    "    # add subset \n",
    "    final_tumour_vol.append(mice_treatment['Tumor Volume (mm3)'])\n",
    "    \n",
    "    # Determine outliers using upper and lower bounds\n",
    "    quartiles = mice_treatment['Tumor Volume (mm3)'].quantile([0.25,0.75])\n",
    "    lowerq = quartiles[0.25]\n",
    "    upperq = quartiles[0.75]\n",
    "    iqr = upperq-lowerq\n",
    "    \n",
    "    lower_bound = lowerq - (1.5*iqr)\n",
    "    upper_bound = upperq + (1.5*iqr)\n",
    "    outliers = final_tumour_vol[-1].loc[(final_tumour_vol[-1].values > upper_bound) | (final_tumour_vol[-1].values < lower_bound)]\n",
    "    \n",
    "    print(f\"{regimen}'s potential outliers: {outliers}\")"
   ]
  },
  {
   "cell_type": "code",
   "execution_count": null,
   "metadata": {
    "tags": []
   },
   "outputs": [],
   "source": [
    "# Generate a box plot that shows the distrubution of the tumor volume for each treatment group.\n",
    "fig1, ax1 = plt.subplots() \n",
    "ax1.set_ylabel(\"Final Tumour Volume (mm3)\") \n",
    "boxplot = ax1.boxplot(final_tumour_vol, flierprops={'marker': 'o', 'markerfacecolor': 'red', 'markersize': 8})\n",
    "ax1.set_xticklabels(regimen_list) \n",
    "plt.show()"
   ]
  },
  {
   "cell_type": "markdown",
   "metadata": {},
   "source": [
    "## Line and Scatter Plots"
   ]
  },
  {
   "cell_type": "code",
   "execution_count": null,
   "metadata": {
    "tags": []
   },
   "outputs": [],
   "source": [
    "# Create variables for the treatment of choice \n",
    "treatment = \"Capomulin\" \n",
    "capomulin_mice = cleaned_df.loc[cleaned_df['Drug Regimen']== \"Capomulin\",:]\n",
    "\n",
    "# Choose Mice from Capomulin group \n",
    "choose = capomulin_mice['Mouse ID'].unique()\n",
    "print(choose)\n",
    "\n",
    "#Choose a mouse from the list above \n",
    "mouse_ID= \"m601\" \n",
    "\n",
    "# Create a series for the chosen mouse \n",
    "mouse_ID_df = cleaned_df.loc[cleaned_df[\"Mouse ID\"] == mouse_ID, ['Timepoint', 'Tumor Volume (mm3)']]\n",
    "\n",
    "# Generate a line plot of tumor volume vs. time point for mouse selected \n",
    "mouse_ID_df.plot(kind='line', x='Timepoint', y= 'Tumor Volume (mm3)', \n",
    "                 xlabel = 'Timepoint (days)', ylabel ='Tumor Volume (mm3)', \n",
    "                 title = f\"Treatment of mouse {mouse_ID} with {treatment}\")\n",
    "plt.show() "
   ]
  },
  {
   "cell_type": "markdown",
   "metadata": {},
   "source": [
    "## Correlation and Regression"
   ]
  },
  {
   "cell_type": "code",
   "execution_count": null,
   "metadata": {
    "tags": []
   },
   "outputs": [],
   "source": [
    "# Generate a scatter plot of mouse weight vs. the average observed tumor volume for the entire Capomulin regimen\n",
    "average_data = capomulin_mice.groupby('Mouse ID').agg({'Tumor Volume (mm3)': 'mean', 'Weight (g)': 'mean'}) \n",
    "average_data\n",
    "\n",
    "#Plot all components \n",
    "average_data.plot(kind=\"scatter\", x= \"Weight (g)\", y = 'Tumor Volume (mm3)')\n",
    "\n",
    "plt.show()"
   ]
  },
  {
   "cell_type": "code",
   "execution_count": null,
   "metadata": {
    "tags": []
   },
   "outputs": [],
   "source": [
    "# Calculate the correlation coefficient and a linear regression model\n",
    "x_values = average_data[\"Weight (g)\"]\n",
    "y_values = average_data[\"Tumor Volume (mm3)\"]\n",
    "\n",
    "# Calculate the correlation coefficient and a linear regression model \n",
    "correlation = st.pearsonr(x_values, y_values)\n",
    "(slope, intercept, rvalue, pvalue, stderr) = linregress(x_values, y_values)\n",
    "\n",
    "#Plot all components \n",
    "average_data.plot(kind=\"scatter\", x= \"Weight (g)\", y = 'Tumor Volume (mm3)')\n",
    "plt.plot(x_values, slope * x_values + intercept, color='red')\n",
    "\n",
    "print(f\"The correlation between mouse weight and the average tumor volume is {round(correlation[0],2)}\")\n",
    "\n",
    "plt.show()"
   ]
  }
 ],
 "metadata": {
  "anaconda-cloud": {},
  "kernelspec": {
   "display_name": "“PythonData”",
   "language": "python",
   "name": "pythondata"
  },
  "language_info": {
   "codemirror_mode": {
    "name": "ipython",
    "version": 3
   },
   "file_extension": ".py",
   "mimetype": "text/x-python",
   "name": "python",
   "nbconvert_exporter": "python",
   "pygments_lexer": "ipython3",
   "version": "3.11.4"
  }
 },
 "nbformat": 4,
 "nbformat_minor": 4
}
